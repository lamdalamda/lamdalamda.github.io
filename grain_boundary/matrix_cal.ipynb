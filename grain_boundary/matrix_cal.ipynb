{
 "cells": [
  {
   "cell_type": "code",
   "execution_count": 49,
   "metadata": {},
   "outputs": [
    {
     "name": "stdout",
     "output_type": "stream",
     "text": [
      "\n",
      "\\left[\\begin{matrix}\\sin^{2}{\\left(\\alpha \\right)} \\cos{\\left(\\theta \\right)} + \\sin^{2}{\\left(\\phi \\right)} \\cos^{2}{\\left(\\alpha \\right)} + \\cos^{2}{\\left(\\alpha \\right)} \\cos^{2}{\\left(\\phi \\right)} \\cos{\\left(\\theta \\right)} & - \\sin{\\left(\\alpha \\right)} \\sin^{2}{\\left(\\phi \\right)} \\cos{\\left(\\alpha \\right)} \\cos{\\left(\\theta \\right)} + \\sin{\\left(\\alpha \\right)} \\sin^{2}{\\left(\\phi \\right)} \\cos{\\left(\\alpha \\right)} - \\sin{\\left(\\theta \\right)} \\cos{\\left(\\phi \\right)} & \\left(\\sin{\\left(\\alpha \\right)} \\sin{\\left(\\theta \\right)} - \\cos{\\left(\\alpha \\right)} \\cos{\\left(\\phi \\right)} \\cos{\\left(\\theta \\right)} + \\cos{\\left(\\alpha \\right)} \\cos{\\left(\\phi \\right)}\\right) \\sin{\\left(\\phi \\right)}\\\\- \\sin{\\left(\\alpha \\right)} \\sin^{2}{\\left(\\phi \\right)} \\cos{\\left(\\alpha \\right)} \\cos{\\left(\\theta \\right)} + \\sin{\\left(\\alpha \\right)} \\sin^{2}{\\left(\\phi \\right)} \\cos{\\left(\\alpha \\right)} + \\sin{\\left(\\theta \\right)} \\cos{\\left(\\phi \\right)} & - \\sin^{2}{\\left(\\alpha \\right)} \\sin^{2}{\\left(\\phi \\right)} \\cos{\\left(\\theta \\right)} + \\sin^{2}{\\left(\\alpha \\right)} \\sin^{2}{\\left(\\phi \\right)} + \\cos{\\left(\\theta \\right)} & \\left(- \\sin{\\left(\\alpha \\right)} \\cos{\\left(\\phi \\right)} \\cos{\\left(\\theta \\right)} + \\sin{\\left(\\alpha \\right)} \\cos{\\left(\\phi \\right)} - \\sin{\\left(\\theta \\right)} \\cos{\\left(\\alpha \\right)}\\right) \\sin{\\left(\\phi \\right)}\\\\\\left(- \\sin{\\left(\\alpha \\right)} \\sin{\\left(\\theta \\right)} - \\cos{\\left(\\alpha \\right)} \\cos{\\left(\\phi \\right)} \\cos{\\left(\\theta \\right)} + \\cos{\\left(\\alpha \\right)} \\cos{\\left(\\phi \\right)}\\right) \\sin{\\left(\\phi \\right)} & \\left(- \\sin{\\left(\\alpha \\right)} \\cos{\\left(\\phi \\right)} \\cos{\\left(\\theta \\right)} + \\sin{\\left(\\alpha \\right)} \\cos{\\left(\\phi \\right)} + \\sin{\\left(\\theta \\right)} \\cos{\\left(\\alpha \\right)}\\right) \\sin{\\left(\\phi \\right)} & \\sin^{2}{\\left(\\phi \\right)} \\cos{\\left(\\theta \\right)} + \\cos^{2}{\\left(\\phi \\right)}\\end{matrix}\\right]\n"
     ]
    },
    {
     "data": {
      "text/latex": [
       "$\\displaystyle \\left[\\begin{matrix}\\sin^{2}{\\left(\\alpha \\right)} \\cos{\\left(\\theta \\right)} + \\sin^{2}{\\left(\\phi \\right)} \\cos^{2}{\\left(\\alpha \\right)} + \\cos^{2}{\\left(\\alpha \\right)} \\cos^{2}{\\left(\\phi \\right)} \\cos{\\left(\\theta \\right)} & - \\sin{\\left(\\alpha \\right)} \\sin^{2}{\\left(\\phi \\right)} \\cos{\\left(\\alpha \\right)} \\cos{\\left(\\theta \\right)} + \\sin{\\left(\\alpha \\right)} \\sin^{2}{\\left(\\phi \\right)} \\cos{\\left(\\alpha \\right)} - \\sin{\\left(\\theta \\right)} \\cos{\\left(\\phi \\right)} & \\left(\\sin{\\left(\\alpha \\right)} \\sin{\\left(\\theta \\right)} - \\cos{\\left(\\alpha \\right)} \\cos{\\left(\\phi \\right)} \\cos{\\left(\\theta \\right)} + \\cos{\\left(\\alpha \\right)} \\cos{\\left(\\phi \\right)}\\right) \\sin{\\left(\\phi \\right)}\\\\- \\sin{\\left(\\alpha \\right)} \\sin^{2}{\\left(\\phi \\right)} \\cos{\\left(\\alpha \\right)} \\cos{\\left(\\theta \\right)} + \\sin{\\left(\\alpha \\right)} \\sin^{2}{\\left(\\phi \\right)} \\cos{\\left(\\alpha \\right)} + \\sin{\\left(\\theta \\right)} \\cos{\\left(\\phi \\right)} & - \\sin^{2}{\\left(\\alpha \\right)} \\sin^{2}{\\left(\\phi \\right)} \\cos{\\left(\\theta \\right)} + \\sin^{2}{\\left(\\alpha \\right)} \\sin^{2}{\\left(\\phi \\right)} + \\cos{\\left(\\theta \\right)} & \\left(- \\sin{\\left(\\alpha \\right)} \\cos{\\left(\\phi \\right)} \\cos{\\left(\\theta \\right)} + \\sin{\\left(\\alpha \\right)} \\cos{\\left(\\phi \\right)} - \\sin{\\left(\\theta \\right)} \\cos{\\left(\\alpha \\right)}\\right) \\sin{\\left(\\phi \\right)}\\\\\\left(- \\sin{\\left(\\alpha \\right)} \\sin{\\left(\\theta \\right)} - \\cos{\\left(\\alpha \\right)} \\cos{\\left(\\phi \\right)} \\cos{\\left(\\theta \\right)} + \\cos{\\left(\\alpha \\right)} \\cos{\\left(\\phi \\right)}\\right) \\sin{\\left(\\phi \\right)} & \\left(- \\sin{\\left(\\alpha \\right)} \\cos{\\left(\\phi \\right)} \\cos{\\left(\\theta \\right)} + \\sin{\\left(\\alpha \\right)} \\cos{\\left(\\phi \\right)} + \\sin{\\left(\\theta \\right)} \\cos{\\left(\\alpha \\right)}\\right) \\sin{\\left(\\phi \\right)} & \\sin^{2}{\\left(\\phi \\right)} \\cos{\\left(\\theta \\right)} + \\cos^{2}{\\left(\\phi \\right)}\\end{matrix}\\right]$"
      ],
      "text/plain": [
       "Matrix([\n",
       "[            sin(alpha)**2*cos(theta) + sin(phi)**2*cos(alpha)**2 + cos(alpha)**2*cos(phi)**2*cos(theta), -sin(alpha)*sin(phi)**2*cos(alpha)*cos(theta) + sin(alpha)*sin(phi)**2*cos(alpha) - sin(theta)*cos(phi),  (sin(alpha)*sin(theta) - cos(alpha)*cos(phi)*cos(theta) + cos(alpha)*cos(phi))*sin(phi)],\n",
       "[-sin(alpha)*sin(phi)**2*cos(alpha)*cos(theta) + sin(alpha)*sin(phi)**2*cos(alpha) + sin(theta)*cos(phi),                          -sin(alpha)**2*sin(phi)**2*cos(theta) + sin(alpha)**2*sin(phi)**2 + cos(theta), (-sin(alpha)*cos(phi)*cos(theta) + sin(alpha)*cos(phi) - sin(theta)*cos(alpha))*sin(phi)],\n",
       "[               (-sin(alpha)*sin(theta) - cos(alpha)*cos(phi)*cos(theta) + cos(alpha)*cos(phi))*sin(phi),                (-sin(alpha)*cos(phi)*cos(theta) + sin(alpha)*cos(phi) + sin(theta)*cos(alpha))*sin(phi),                                                     sin(phi)**2*cos(theta) + cos(phi)**2]])"
      ]
     },
     "execution_count": 49,
     "metadata": {},
     "output_type": "execute_result"
    }
   ],
   "source": [
    "from sympy import *\n",
    "\n",
    "var('alpha phi theta A B M N Z')\n",
    "\n",
    "A=Matrix([[Mul(cos(alpha),cos(phi)),Mul(sin(alpha),cos(phi)),-sin(phi)],[-sin(alpha),cos(alpha),0],[Mul(cos(alpha),sin(phi)),Mul(sin(alpha),sin(phi)),cos(phi)]])\n",
    "\n",
    "print()\n",
    "\n",
    "B=Matrix([[cos(theta),-sin(theta),0],[sin(theta),cos(theta),0],[0,0,1]])\n",
    "\n",
    "M=B.multiply(A)\n",
    "N=(A.T).multiply(M)\n",
    "#print_latex(N)\n",
    "print_latex(N.applyfunc(simplify))\n",
    "N.applyfunc(simplify)\n"
   ]
  },
  {
   "cell_type": "code",
   "execution_count": 42,
   "metadata": {},
   "outputs": [
    {
     "data": {
      "text/latex": [
       "$\\displaystyle \\cos{\\left(\\phi \\right)}$"
      ],
      "text/plain": [
       "cos(phi)"
      ]
     },
     "execution_count": 42,
     "metadata": {},
     "output_type": "execute_result"
    }
   ],
   "source": [
    "((N[1,0]-N[0,1])/(2*sin(theta))).simplify()"
   ]
  },
  {
   "cell_type": "code",
   "execution_count": 43,
   "metadata": {},
   "outputs": [
    {
     "data": {
      "text/latex": [
       "$\\displaystyle \\sin{\\left(\\phi \\right)} \\cos{\\left(\\alpha \\right)}$"
      ],
      "text/plain": [
       "sin(phi)*cos(alpha)"
      ]
     },
     "execution_count": 43,
     "metadata": {},
     "output_type": "execute_result"
    }
   ],
   "source": [
    "((N[2,1]-N[1,2])/(2*sin(theta))).simplify()"
   ]
  },
  {
   "cell_type": "code",
   "execution_count": 46,
   "metadata": {},
   "outputs": [
    {
     "name": "stdout",
     "output_type": "stream",
     "text": [
      "\\left[\\begin{matrix}1 & d\\\\- \\alpha \\theta & - \\alpha d \\theta - \\cos{\\left(\\phi \\right)}\\end{matrix}\\right]\n"
     ]
    }
   ],
   "source": [
    "print_latex(M)"
   ]
  }
 ],
 "metadata": {
  "interpreter": {
   "hash": "31f2aee4e71d21fbe5cf8b01ff0e069b9275f58929596ceb00d14d90e3e16cd6"
  },
  "kernelspec": {
   "display_name": "Python 3.8.10 64-bit",
   "language": "python",
   "name": "python3"
  },
  "language_info": {
   "codemirror_mode": {
    "name": "ipython",
    "version": 3
   },
   "file_extension": ".py",
   "mimetype": "text/x-python",
   "name": "python",
   "nbconvert_exporter": "python",
   "pygments_lexer": "ipython3",
   "version": "3.9.6"
  },
  "orig_nbformat": 4
 },
 "nbformat": 4,
 "nbformat_minor": 2
}
